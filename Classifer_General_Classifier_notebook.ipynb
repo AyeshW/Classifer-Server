{
  "nbformat": 4,
  "nbformat_minor": 0,
  "metadata": {
    "colab": {
      "name": "Classifer - General Classifier notebook",
      "provenance": [],
      "collapsed_sections": [],
      "toc_visible": true,
      "include_colab_link": true
    },
    "kernelspec": {
      "name": "python3",
      "display_name": "Python 3"
    }
  },
  "cells": [
    {
      "cell_type": "markdown",
      "metadata": {
        "id": "view-in-github",
        "colab_type": "text"
      },
      "source": [
        "<a href=\"https://colab.research.google.com/github/AyeshW/Classifer-Server/blob/master/Classifer_General_Classifier_notebook.ipynb\" target=\"_parent\"><img src=\"https://colab.research.google.com/assets/colab-badge.svg\" alt=\"Open In Colab\"/></a>"
      ]
    },
    {
      "cell_type": "markdown",
      "metadata": {
        "id": "EUVuHVE9ePTL",
        "colab_type": "text"
      },
      "source": [
        "## Data input and pre-processing\n"
      ]
    },
    {
      "cell_type": "code",
      "metadata": {
        "id": "JFMm799HKMlu",
        "colab_type": "code",
        "colab": {}
      },
      "source": [
        "import pandas as pd"
      ],
      "execution_count": 0,
      "outputs": []
    },
    {
      "cell_type": "code",
      "metadata": {
        "id": "QtX2DoklQGni",
        "colab_type": "code",
        "outputId": "df71687d-4879-4b21-f42c-3a72da561a9d",
        "colab": {
          "base_uri": "https://localhost:8080/",
          "height": 34
        }
      },
      "source": [
        "from google.colab import drive, files\n",
        "drive.mount('/content/gdrive', force_remount=True)"
      ],
      "execution_count": 0,
      "outputs": [
        {
          "output_type": "stream",
          "text": [
            "Mounted at /content/gdrive\n"
          ],
          "name": "stdout"
        }
      ]
    },
    {
      "cell_type": "code",
      "metadata": {
        "id": "YWnKtHzhQZyL",
        "colab_type": "code",
        "outputId": "e91a1d5a-d14a-4e2d-a118-d4223ad4ea5a",
        "colab": {
          "base_uri": "https://localhost:8080/",
          "height": 204
        }
      },
      "source": [
        "path = '/content/gdrive/My Drive/Colab Notebooks/bbc-text.csv'\n",
        "df = pd.read_csv(path)\n",
        "df.head()"
      ],
      "execution_count": 0,
      "outputs": [
        {
          "output_type": "execute_result",
          "data": {
            "text/html": [
              "<div>\n",
              "<style scoped>\n",
              "    .dataframe tbody tr th:only-of-type {\n",
              "        vertical-align: middle;\n",
              "    }\n",
              "\n",
              "    .dataframe tbody tr th {\n",
              "        vertical-align: top;\n",
              "    }\n",
              "\n",
              "    .dataframe thead th {\n",
              "        text-align: right;\n",
              "    }\n",
              "</style>\n",
              "<table border=\"1\" class=\"dataframe\">\n",
              "  <thead>\n",
              "    <tr style=\"text-align: right;\">\n",
              "      <th></th>\n",
              "      <th>category</th>\n",
              "      <th>text</th>\n",
              "    </tr>\n",
              "  </thead>\n",
              "  <tbody>\n",
              "    <tr>\n",
              "      <th>0</th>\n",
              "      <td>tech</td>\n",
              "      <td>tv future in the hands of viewers with home th...</td>\n",
              "    </tr>\n",
              "    <tr>\n",
              "      <th>1</th>\n",
              "      <td>business</td>\n",
              "      <td>worldcom boss  left books alone  former worldc...</td>\n",
              "    </tr>\n",
              "    <tr>\n",
              "      <th>2</th>\n",
              "      <td>sport</td>\n",
              "      <td>tigers wary of farrell  gamble  leicester say ...</td>\n",
              "    </tr>\n",
              "    <tr>\n",
              "      <th>3</th>\n",
              "      <td>sport</td>\n",
              "      <td>yeading face newcastle in fa cup premiership s...</td>\n",
              "    </tr>\n",
              "    <tr>\n",
              "      <th>4</th>\n",
              "      <td>entertainment</td>\n",
              "      <td>ocean s twelve raids box office ocean s twelve...</td>\n",
              "    </tr>\n",
              "  </tbody>\n",
              "</table>\n",
              "</div>"
            ],
            "text/plain": [
              "        category                                               text\n",
              "0           tech  tv future in the hands of viewers with home th...\n",
              "1       business  worldcom boss  left books alone  former worldc...\n",
              "2          sport  tigers wary of farrell  gamble  leicester say ...\n",
              "3          sport  yeading face newcastle in fa cup premiership s...\n",
              "4  entertainment  ocean s twelve raids box office ocean s twelve..."
            ]
          },
          "metadata": {
            "tags": []
          },
          "execution_count": 4
        }
      ]
    },
    {
      "cell_type": "code",
      "metadata": {
        "id": "45vv7UAMKMlx",
        "colab_type": "code",
        "colab": {}
      },
      "source": [
        "df['category_id'] = df['category'].factorize()[0]"
      ],
      "execution_count": 0,
      "outputs": []
    },
    {
      "cell_type": "code",
      "metadata": {
        "id": "2wDV-e9TdRoU",
        "colab_type": "code",
        "outputId": "6213e200-2912-47ab-ec08-e99d3cd46350",
        "colab": {
          "base_uri": "https://localhost:8080/",
          "height": 1986
        }
      },
      "source": [
        "category_id_df = df[['category', 'category_id']].drop_duplicates().sort_values('category_id')\n",
        "category_to_id = dict(category_id_df.values)\n",
        "id_to_category = dict(category_id_df[['category_id', 'category']].values)\n",
        "print(id_to_category)\n",
        "df"
      ],
      "execution_count": 0,
      "outputs": [
        {
          "output_type": "stream",
          "text": [
            "{0: 'tech', 1: 'business', 2: 'sport', 3: 'entertainment', 4: 'politics'}\n"
          ],
          "name": "stdout"
        },
        {
          "output_type": "execute_result",
          "data": {
            "text/html": [
              "<div>\n",
              "<style scoped>\n",
              "    .dataframe tbody tr th:only-of-type {\n",
              "        vertical-align: middle;\n",
              "    }\n",
              "\n",
              "    .dataframe tbody tr th {\n",
              "        vertical-align: top;\n",
              "    }\n",
              "\n",
              "    .dataframe thead th {\n",
              "        text-align: right;\n",
              "    }\n",
              "</style>\n",
              "<table border=\"1\" class=\"dataframe\">\n",
              "  <thead>\n",
              "    <tr style=\"text-align: right;\">\n",
              "      <th></th>\n",
              "      <th>category</th>\n",
              "      <th>text</th>\n",
              "      <th>category_id</th>\n",
              "    </tr>\n",
              "  </thead>\n",
              "  <tbody>\n",
              "    <tr>\n",
              "      <th>0</th>\n",
              "      <td>tech</td>\n",
              "      <td>tv future in the hands of viewers with home th...</td>\n",
              "      <td>0</td>\n",
              "    </tr>\n",
              "    <tr>\n",
              "      <th>1</th>\n",
              "      <td>business</td>\n",
              "      <td>worldcom boss  left books alone  former worldc...</td>\n",
              "      <td>1</td>\n",
              "    </tr>\n",
              "    <tr>\n",
              "      <th>2</th>\n",
              "      <td>sport</td>\n",
              "      <td>tigers wary of farrell  gamble  leicester say ...</td>\n",
              "      <td>2</td>\n",
              "    </tr>\n",
              "    <tr>\n",
              "      <th>3</th>\n",
              "      <td>sport</td>\n",
              "      <td>yeading face newcastle in fa cup premiership s...</td>\n",
              "      <td>2</td>\n",
              "    </tr>\n",
              "    <tr>\n",
              "      <th>4</th>\n",
              "      <td>entertainment</td>\n",
              "      <td>ocean s twelve raids box office ocean s twelve...</td>\n",
              "      <td>3</td>\n",
              "    </tr>\n",
              "    <tr>\n",
              "      <th>5</th>\n",
              "      <td>politics</td>\n",
              "      <td>howard hits back at mongrel jibe michael howar...</td>\n",
              "      <td>4</td>\n",
              "    </tr>\n",
              "    <tr>\n",
              "      <th>6</th>\n",
              "      <td>politics</td>\n",
              "      <td>blair prepares to name poll date tony blair is...</td>\n",
              "      <td>4</td>\n",
              "    </tr>\n",
              "    <tr>\n",
              "      <th>7</th>\n",
              "      <td>sport</td>\n",
              "      <td>henman hopes ended in dubai third seed tim hen...</td>\n",
              "      <td>2</td>\n",
              "    </tr>\n",
              "    <tr>\n",
              "      <th>8</th>\n",
              "      <td>sport</td>\n",
              "      <td>wilkinson fit to face edinburgh england captai...</td>\n",
              "      <td>2</td>\n",
              "    </tr>\n",
              "    <tr>\n",
              "      <th>9</th>\n",
              "      <td>entertainment</td>\n",
              "      <td>last star wars  not for children  the sixth an...</td>\n",
              "      <td>3</td>\n",
              "    </tr>\n",
              "    <tr>\n",
              "      <th>10</th>\n",
              "      <td>entertainment</td>\n",
              "      <td>berlin cheers for anti-nazi film a german movi...</td>\n",
              "      <td>3</td>\n",
              "    </tr>\n",
              "    <tr>\n",
              "      <th>11</th>\n",
              "      <td>business</td>\n",
              "      <td>virgin blue shares plummet 20% shares in austr...</td>\n",
              "      <td>1</td>\n",
              "    </tr>\n",
              "    <tr>\n",
              "      <th>12</th>\n",
              "      <td>business</td>\n",
              "      <td>crude oil prices back above $50 cold weather a...</td>\n",
              "      <td>1</td>\n",
              "    </tr>\n",
              "    <tr>\n",
              "      <th>13</th>\n",
              "      <td>politics</td>\n",
              "      <td>hague  given up  his pm ambition former conser...</td>\n",
              "      <td>4</td>\n",
              "    </tr>\n",
              "    <tr>\n",
              "      <th>14</th>\n",
              "      <td>sport</td>\n",
              "      <td>moya emotional after davis cup win carlos moya...</td>\n",
              "      <td>2</td>\n",
              "    </tr>\n",
              "    <tr>\n",
              "      <th>15</th>\n",
              "      <td>business</td>\n",
              "      <td>s korean credit card firm rescued south korea ...</td>\n",
              "      <td>1</td>\n",
              "    </tr>\n",
              "    <tr>\n",
              "      <th>16</th>\n",
              "      <td>politics</td>\n",
              "      <td>howard backs stem cell research michael howard...</td>\n",
              "      <td>4</td>\n",
              "    </tr>\n",
              "    <tr>\n",
              "      <th>17</th>\n",
              "      <td>sport</td>\n",
              "      <td>connors boost for british tennis former world ...</td>\n",
              "      <td>2</td>\n",
              "    </tr>\n",
              "    <tr>\n",
              "      <th>18</th>\n",
              "      <td>business</td>\n",
              "      <td>japanese banking battle at an end japan s sumi...</td>\n",
              "      <td>1</td>\n",
              "    </tr>\n",
              "    <tr>\n",
              "      <th>19</th>\n",
              "      <td>tech</td>\n",
              "      <td>games maker fights for survival one of britain...</td>\n",
              "      <td>0</td>\n",
              "    </tr>\n",
              "    <tr>\n",
              "      <th>20</th>\n",
              "      <td>tech</td>\n",
              "      <td>security warning over  fbi virus  the us feder...</td>\n",
              "      <td>0</td>\n",
              "    </tr>\n",
              "    <tr>\n",
              "      <th>21</th>\n",
              "      <td>tech</td>\n",
              "      <td>halo 2 heralds traffic explosion the growing p...</td>\n",
              "      <td>0</td>\n",
              "    </tr>\n",
              "    <tr>\n",
              "      <th>22</th>\n",
              "      <td>sport</td>\n",
              "      <td>bates seals takeover ken bates has completed h...</td>\n",
              "      <td>2</td>\n",
              "    </tr>\n",
              "    <tr>\n",
              "      <th>23</th>\n",
              "      <td>sport</td>\n",
              "      <td>cole faces lengthy injury lay-off aston villa ...</td>\n",
              "      <td>2</td>\n",
              "    </tr>\n",
              "    <tr>\n",
              "      <th>24</th>\n",
              "      <td>tech</td>\n",
              "      <td>mobile audio enters new dimension as mobile ph...</td>\n",
              "      <td>0</td>\n",
              "    </tr>\n",
              "    <tr>\n",
              "      <th>25</th>\n",
              "      <td>sport</td>\n",
              "      <td>moya fights back for indian title carlos moya ...</td>\n",
              "      <td>2</td>\n",
              "    </tr>\n",
              "    <tr>\n",
              "      <th>26</th>\n",
              "      <td>entertainment</td>\n",
              "      <td>career honour for actor dicaprio actor leonard...</td>\n",
              "      <td>3</td>\n",
              "    </tr>\n",
              "    <tr>\n",
              "      <th>27</th>\n",
              "      <td>tech</td>\n",
              "      <td>mobile gig aims to rock 3g forget about going ...</td>\n",
              "      <td>0</td>\n",
              "    </tr>\n",
              "    <tr>\n",
              "      <th>28</th>\n",
              "      <td>politics</td>\n",
              "      <td>terror suspects face house arrest uk citizens ...</td>\n",
              "      <td>4</td>\n",
              "    </tr>\n",
              "    <tr>\n",
              "      <th>29</th>\n",
              "      <td>entertainment</td>\n",
              "      <td>halloween writer debra hill dies screenwriter ...</td>\n",
              "      <td>3</td>\n",
              "    </tr>\n",
              "    <tr>\n",
              "      <th>...</th>\n",
              "      <td>...</td>\n",
              "      <td>...</td>\n",
              "      <td>...</td>\n",
              "    </tr>\n",
              "    <tr>\n",
              "      <th>2195</th>\n",
              "      <td>sport</td>\n",
              "      <td>owen delighted with real display michael owen ...</td>\n",
              "      <td>2</td>\n",
              "    </tr>\n",
              "    <tr>\n",
              "      <th>2196</th>\n",
              "      <td>business</td>\n",
              "      <td>gm issues 2005 profits warning general motors ...</td>\n",
              "      <td>1</td>\n",
              "    </tr>\n",
              "    <tr>\n",
              "      <th>2197</th>\n",
              "      <td>politics</td>\n",
              "      <td>campbell returns to election team ex-downing s...</td>\n",
              "      <td>4</td>\n",
              "    </tr>\n",
              "    <tr>\n",
              "      <th>2198</th>\n",
              "      <td>business</td>\n",
              "      <td>asian banks halt dollar s slide the dollar reg...</td>\n",
              "      <td>1</td>\n",
              "    </tr>\n",
              "    <tr>\n",
              "      <th>2199</th>\n",
              "      <td>business</td>\n",
              "      <td>wall street cool to ebay s profit shares in on...</td>\n",
              "      <td>1</td>\n",
              "    </tr>\n",
              "    <tr>\n",
              "      <th>2200</th>\n",
              "      <td>tech</td>\n",
              "      <td>uk pioneers digital film network the world s f...</td>\n",
              "      <td>0</td>\n",
              "    </tr>\n",
              "    <tr>\n",
              "      <th>2201</th>\n",
              "      <td>politics</td>\n",
              "      <td>ban on forced retirement under 65 employers wi...</td>\n",
              "      <td>4</td>\n",
              "    </tr>\n",
              "    <tr>\n",
              "      <th>2202</th>\n",
              "      <td>tech</td>\n",
              "      <td>local net tv takes off in austria an austrian ...</td>\n",
              "      <td>0</td>\n",
              "    </tr>\n",
              "    <tr>\n",
              "      <th>2203</th>\n",
              "      <td>politics</td>\n",
              "      <td>profile: david miliband david miliband s rapid...</td>\n",
              "      <td>4</td>\n",
              "    </tr>\n",
              "    <tr>\n",
              "      <th>2204</th>\n",
              "      <td>tech</td>\n",
              "      <td>argonaut founder rebuilds empire jez san  the ...</td>\n",
              "      <td>0</td>\n",
              "    </tr>\n",
              "    <tr>\n",
              "      <th>2205</th>\n",
              "      <td>entertainment</td>\n",
              "      <td>dance music not dead says fatboy dj norman coo...</td>\n",
              "      <td>3</td>\n",
              "    </tr>\n",
              "    <tr>\n",
              "      <th>2206</th>\n",
              "      <td>politics</td>\n",
              "      <td>kennedy questions trust of blair lib dem leade...</td>\n",
              "      <td>4</td>\n",
              "    </tr>\n",
              "    <tr>\n",
              "      <th>2207</th>\n",
              "      <td>tech</td>\n",
              "      <td>california sets fines for spyware the makers o...</td>\n",
              "      <td>0</td>\n",
              "    </tr>\n",
              "    <tr>\n",
              "      <th>2208</th>\n",
              "      <td>entertainment</td>\n",
              "      <td>snicket tops us box office chart the film adap...</td>\n",
              "      <td>3</td>\n",
              "    </tr>\n",
              "    <tr>\n",
              "      <th>2209</th>\n",
              "      <td>sport</td>\n",
              "      <td>time to get tough on friendlies  for an intern...</td>\n",
              "      <td>2</td>\n",
              "    </tr>\n",
              "    <tr>\n",
              "      <th>2210</th>\n",
              "      <td>politics</td>\n",
              "      <td>teens  know little  of politics teenagers ques...</td>\n",
              "      <td>4</td>\n",
              "    </tr>\n",
              "    <tr>\n",
              "      <th>2211</th>\n",
              "      <td>entertainment</td>\n",
              "      <td>lopez misses uk charity premiere jennifer lope...</td>\n",
              "      <td>3</td>\n",
              "    </tr>\n",
              "    <tr>\n",
              "      <th>2212</th>\n",
              "      <td>business</td>\n",
              "      <td>christmas shoppers flock to tills shops all ov...</td>\n",
              "      <td>1</td>\n",
              "    </tr>\n",
              "    <tr>\n",
              "      <th>2213</th>\n",
              "      <td>tech</td>\n",
              "      <td>progress on new internet domains by early 2005...</td>\n",
              "      <td>0</td>\n",
              "    </tr>\n",
              "    <tr>\n",
              "      <th>2214</th>\n",
              "      <td>business</td>\n",
              "      <td>bush budget seeks deep cutbacks president bush...</td>\n",
              "      <td>1</td>\n",
              "    </tr>\n",
              "    <tr>\n",
              "      <th>2215</th>\n",
              "      <td>tech</td>\n",
              "      <td>junk e-mails on relentless rise spam traffic i...</td>\n",
              "      <td>0</td>\n",
              "    </tr>\n",
              "    <tr>\n",
              "      <th>2216</th>\n",
              "      <td>entertainment</td>\n",
              "      <td>top stars join us tsunami tv show brad pitt  r...</td>\n",
              "      <td>3</td>\n",
              "    </tr>\n",
              "    <tr>\n",
              "      <th>2217</th>\n",
              "      <td>tech</td>\n",
              "      <td>rings of steel combat net attacks gambling is ...</td>\n",
              "      <td>0</td>\n",
              "    </tr>\n",
              "    <tr>\n",
              "      <th>2218</th>\n",
              "      <td>sport</td>\n",
              "      <td>davies favours gloucester future wales hooker ...</td>\n",
              "      <td>2</td>\n",
              "    </tr>\n",
              "    <tr>\n",
              "      <th>2219</th>\n",
              "      <td>business</td>\n",
              "      <td>beijingers fume over parking fees choking traf...</td>\n",
              "      <td>1</td>\n",
              "    </tr>\n",
              "    <tr>\n",
              "      <th>2220</th>\n",
              "      <td>business</td>\n",
              "      <td>cars pull down us retail figures us retail sal...</td>\n",
              "      <td>1</td>\n",
              "    </tr>\n",
              "    <tr>\n",
              "      <th>2221</th>\n",
              "      <td>politics</td>\n",
              "      <td>kilroy unveils immigration policy ex-chatshow ...</td>\n",
              "      <td>4</td>\n",
              "    </tr>\n",
              "    <tr>\n",
              "      <th>2222</th>\n",
              "      <td>entertainment</td>\n",
              "      <td>rem announce new glasgow concert us band rem h...</td>\n",
              "      <td>3</td>\n",
              "    </tr>\n",
              "    <tr>\n",
              "      <th>2223</th>\n",
              "      <td>politics</td>\n",
              "      <td>how political squabbles snowball it s become c...</td>\n",
              "      <td>4</td>\n",
              "    </tr>\n",
              "    <tr>\n",
              "      <th>2224</th>\n",
              "      <td>sport</td>\n",
              "      <td>souness delight at euro progress boss graeme s...</td>\n",
              "      <td>2</td>\n",
              "    </tr>\n",
              "  </tbody>\n",
              "</table>\n",
              "<p>2225 rows × 3 columns</p>\n",
              "</div>"
            ],
            "text/plain": [
              "           category  ... category_id\n",
              "0              tech  ...           0\n",
              "1          business  ...           1\n",
              "2             sport  ...           2\n",
              "3             sport  ...           2\n",
              "4     entertainment  ...           3\n",
              "5          politics  ...           4\n",
              "6          politics  ...           4\n",
              "7             sport  ...           2\n",
              "8             sport  ...           2\n",
              "9     entertainment  ...           3\n",
              "10    entertainment  ...           3\n",
              "11         business  ...           1\n",
              "12         business  ...           1\n",
              "13         politics  ...           4\n",
              "14            sport  ...           2\n",
              "15         business  ...           1\n",
              "16         politics  ...           4\n",
              "17            sport  ...           2\n",
              "18         business  ...           1\n",
              "19             tech  ...           0\n",
              "20             tech  ...           0\n",
              "21             tech  ...           0\n",
              "22            sport  ...           2\n",
              "23            sport  ...           2\n",
              "24             tech  ...           0\n",
              "25            sport  ...           2\n",
              "26    entertainment  ...           3\n",
              "27             tech  ...           0\n",
              "28         politics  ...           4\n",
              "29    entertainment  ...           3\n",
              "...             ...  ...         ...\n",
              "2195          sport  ...           2\n",
              "2196       business  ...           1\n",
              "2197       politics  ...           4\n",
              "2198       business  ...           1\n",
              "2199       business  ...           1\n",
              "2200           tech  ...           0\n",
              "2201       politics  ...           4\n",
              "2202           tech  ...           0\n",
              "2203       politics  ...           4\n",
              "2204           tech  ...           0\n",
              "2205  entertainment  ...           3\n",
              "2206       politics  ...           4\n",
              "2207           tech  ...           0\n",
              "2208  entertainment  ...           3\n",
              "2209          sport  ...           2\n",
              "2210       politics  ...           4\n",
              "2211  entertainment  ...           3\n",
              "2212       business  ...           1\n",
              "2213           tech  ...           0\n",
              "2214       business  ...           1\n",
              "2215           tech  ...           0\n",
              "2216  entertainment  ...           3\n",
              "2217           tech  ...           0\n",
              "2218          sport  ...           2\n",
              "2219       business  ...           1\n",
              "2220       business  ...           1\n",
              "2221       politics  ...           4\n",
              "2222  entertainment  ...           3\n",
              "2223       politics  ...           4\n",
              "2224          sport  ...           2\n",
              "\n",
              "[2225 rows x 3 columns]"
            ]
          },
          "metadata": {
            "tags": []
          },
          "execution_count": 26
        }
      ]
    },
    {
      "cell_type": "markdown",
      "metadata": {
        "id": "kRviyvPXec-K",
        "colab_type": "text"
      },
      "source": [
        "## Data exploration"
      ]
    },
    {
      "cell_type": "code",
      "metadata": {
        "id": "CM-x-fpjKMl0",
        "colab_type": "code",
        "outputId": "de40e1c7-74b1-483e-84da-51c43ef59447",
        "colab": {
          "base_uri": "https://localhost:8080/",
          "height": 204
        }
      },
      "source": [
        "df.sample(5, random_state=0)"
      ],
      "execution_count": 0,
      "outputs": [
        {
          "output_type": "execute_result",
          "data": {
            "text/html": [
              "<div>\n",
              "<style scoped>\n",
              "    .dataframe tbody tr th:only-of-type {\n",
              "        vertical-align: middle;\n",
              "    }\n",
              "\n",
              "    .dataframe tbody tr th {\n",
              "        vertical-align: top;\n",
              "    }\n",
              "\n",
              "    .dataframe thead th {\n",
              "        text-align: right;\n",
              "    }\n",
              "</style>\n",
              "<table border=\"1\" class=\"dataframe\">\n",
              "  <thead>\n",
              "    <tr style=\"text-align: right;\">\n",
              "      <th></th>\n",
              "      <th>category</th>\n",
              "      <th>text</th>\n",
              "      <th>category_id</th>\n",
              "    </tr>\n",
              "  </thead>\n",
              "  <tbody>\n",
              "    <tr>\n",
              "      <th>384</th>\n",
              "      <td>politics</td>\n",
              "      <td>drive to  save  festive holidays efforts are b...</td>\n",
              "      <td>4</td>\n",
              "    </tr>\n",
              "    <tr>\n",
              "      <th>1983</th>\n",
              "      <td>sport</td>\n",
              "      <td>officials respond in court row australian tenn...</td>\n",
              "      <td>2</td>\n",
              "    </tr>\n",
              "    <tr>\n",
              "      <th>985</th>\n",
              "      <td>sport</td>\n",
              "      <td>cup holders man utd visit everton holders manc...</td>\n",
              "      <td>2</td>\n",
              "    </tr>\n",
              "    <tr>\n",
              "      <th>1386</th>\n",
              "      <td>sport</td>\n",
              "      <td>adriano s chelsea link rejected adriano s agen...</td>\n",
              "      <td>2</td>\n",
              "    </tr>\n",
              "    <tr>\n",
              "      <th>1294</th>\n",
              "      <td>sport</td>\n",
              "      <td>o driscoll/gregan lead aid stars ireland s bri...</td>\n",
              "      <td>2</td>\n",
              "    </tr>\n",
              "  </tbody>\n",
              "</table>\n",
              "</div>"
            ],
            "text/plain": [
              "      category                                               text  category_id\n",
              "384   politics  drive to  save  festive holidays efforts are b...            4\n",
              "1983     sport  officials respond in court row australian tenn...            2\n",
              "985      sport  cup holders man utd visit everton holders manc...            2\n",
              "1386     sport  adriano s chelsea link rejected adriano s agen...            2\n",
              "1294     sport  o driscoll/gregan lead aid stars ireland s bri...            2"
            ]
          },
          "metadata": {
            "tags": []
          },
          "execution_count": 7
        }
      ]
    },
    {
      "cell_type": "code",
      "metadata": {
        "id": "8GU61mTp5kpC",
        "colab_type": "code",
        "outputId": "5eb43525-627f-4ca8-c141-9fb78c68c8a4",
        "colab": {
          "base_uri": "https://localhost:8080/",
          "height": 362
        }
      },
      "source": [
        "df.groupby('category').text.count().plot.bar(ylim=0)"
      ],
      "execution_count": 0,
      "outputs": [
        {
          "output_type": "execute_result",
          "data": {
            "text/plain": [
              "<matplotlib.axes._subplots.AxesSubplot at 0x7f734b008f28>"
            ]
          },
          "metadata": {
            "tags": []
          },
          "execution_count": 8
        },
        {
          "output_type": "display_data",
          "data": {
            "image/png": "[encoded data removed]",
            "text/plain": [
              "<Figure size 432x288 with 1 Axes>"
            ]
          },
          "metadata": {
            "tags": []
          }
        }
      ]
    },
    {
      "cell_type": "code",
      "metadata": {
        "id": "mtmh4uCMKMl5",
        "colab_type": "code",
        "outputId": "d2c300f7-e7be-4140-cb31-2e6162587c9e",
        "colab": {
          "base_uri": "https://localhost:8080/",
          "height": 238
        }
      },
      "source": [
        "from sklearn.feature_extraction.text import TfidfVectorizer\n",
        "\n",
        "tfidf = TfidfVectorizer(sublinear_tf=True, min_df=5, norm='l2', encoding='latin-1', ngram_range=(1, 3), stop_words='english')\n",
        "\n",
        "features = tfidf.fit_transform(df.text).toarray()\n",
        "labels = df.category_id\n",
        "features"
      ],
      "execution_count": 0,
      "outputs": [
        {
          "output_type": "execute_result",
          "data": {
            "text/plain": [
              "array([[0.        , 0.02387836, 0.        , ..., 0.        , 0.        ,\n",
              "        0.        ],\n",
              "       [0.        , 0.03120819, 0.        , ..., 0.        , 0.        ,\n",
              "        0.        ],\n",
              "       [0.        , 0.        , 0.        , ..., 0.        , 0.        ,\n",
              "        0.        ],\n",
              "       ...,\n",
              "       [0.        , 0.03857387, 0.        , ..., 0.        , 0.        ,\n",
              "        0.        ],\n",
              "       [0.        , 0.02753307, 0.        , ..., 0.        , 0.        ,\n",
              "        0.        ],\n",
              "       [0.        , 0.        , 0.        , ..., 0.        , 0.        ,\n",
              "        0.        ]])"
            ]
          },
          "metadata": {
            "tags": []
          },
          "execution_count": 9
        }
      ]
    },
    {
      "cell_type": "markdown",
      "metadata": {
        "id": "P-DT_-fH_AJ0",
        "colab_type": "text"
      },
      "source": [
        "features matrix contains a 2D array representing a (number_of_samples x number_of_features) matrix"
      ]
    },
    {
      "cell_type": "code",
      "metadata": {
        "id": "p5pkpgQsKMmN",
        "colab_type": "code",
        "outputId": "3e93a424-6b97-42cc-eb34-b9ec547fe23d",
        "colab": {
          "base_uri": "https://localhost:8080/",
          "height": 1377
        }
      },
      "source": [
        "from sklearn.feature_selection import chi2\n",
        "import numpy as np\n",
        "\n",
        "N = 4\n",
        "for category, category_id in sorted(category_to_id.items()):\n",
        "  features_chi2 = chi2(features, labels == category_id)\n",
        "  indices = np.argsort(features_chi2[0])\n",
        "  feature_names = np.array(tfidf.get_feature_names())[indices]\n",
        "  unigrams = [v for v in feature_names if len(v.split(' ')) == 1]\n",
        "  bigrams = [v for v in feature_names if len(v.split(' ')) == 2]\n",
        "  trigrams = [v for v in feature_names if len(v.split(' ')) == 3]\n",
        "  print(\"# '{}':\".format(category))\n",
        "  print(\"  . Most correlated unigrams:\\n       . {}\".format('\\n       . '.join(unigrams[-N:])))\n",
        "  print(\"  . Most correlated bigrams:\\n       . {}\".format('\\n       . '.join(bigrams[-N:])))\n",
        "  print(\"  . Most correlated trigrams:\\n       . {}\".format('\\n       . '.join(trigrams[-N:])))"
      ],
      "execution_count": 0,
      "outputs": [
        {
          "output_type": "stream",
          "text": [
            "# 'business':\n",
            "  . Most correlated unigrams:\n",
            "       . oil\n",
            "       . bank\n",
            "       . growth\n",
            "       . shares\n",
            "  . Most correlated bigrams:\n",
            "       . oil prices\n",
            "       . analysts said\n",
            "       . economic growth\n",
            "       . stock market\n",
            "  . Most correlated trigrams:\n",
            "       . gross domestic product\n",
            "       . high oil prices\n",
            "       . london stock exchange\n",
            "       . securities exchange commission\n",
            "# 'entertainment':\n",
            "  . Most correlated unigrams:\n",
            "       . awards\n",
            "       . singer\n",
            "       . actor\n",
            "       . film\n",
            "  . Most correlated bigrams:\n",
            "       . million dollar\n",
            "       . los angeles\n",
            "       . film festival\n",
            "       . box office\n",
            "  . Most correlated trigrams:\n",
            "       . best supporting actress\n",
            "       . best supporting actor\n",
            "       . berlin film festival\n",
            "       . million dollar baby\n",
            "# 'politics':\n",
            "  . Most correlated unigrams:\n",
            "       . party\n",
            "       . blair\n",
            "       . election\n",
            "       . labour\n",
            "  . Most correlated bigrams:\n",
            "       . general election\n",
            "       . prime minister\n",
            "       . tony blair\n",
            "       . mr blair\n",
            "  . Most correlated trigrams:\n",
            "       . bbc radio today\n",
            "       . tory leader michael\n",
            "       . mr blair said\n",
            "       . leader michael howard\n",
            "# 'sport':\n",
            "  . Most correlated unigrams:\n",
            "       . injury\n",
            "       . coach\n",
            "       . match\n",
            "       . cup\n",
            "  . Most correlated bigrams:\n",
            "       . year old\n",
            "       . grand slam\n",
            "       . australian open\n",
            "       . champions league\n",
            "  . Most correlated trigrams:\n",
            "       . european indoor championships\n",
            "       . 31 year old\n",
            "       . coach andy robinson\n",
            "       . told bbc sport\n",
            "# 'tech':\n",
            "  . Most correlated unigrams:\n",
            "       . computer\n",
            "       . technology\n",
            "       . software\n",
            "       . users\n",
            "  . Most correlated bigrams:\n",
            "       . news website\n",
            "       . anti virus\n",
            "       . mobile phones\n",
            "       . mobile phone\n",
            "  . Most correlated trigrams:\n",
            "       . anti virus firm\n",
            "       . told bbc news\n",
            "       . digital music players\n",
            "       . bbc news website\n"
          ],
          "name": "stdout"
        }
      ]
    },
    {
      "cell_type": "code",
      "metadata": {
        "id": "TMzD5rlhKMl9",
        "colab_type": "code",
        "outputId": "d92c7517-32dc-420a-ab4e-07d53f50ca02",
        "colab": {
          "base_uri": "https://localhost:8080/",
          "height": 300
        }
      },
      "source": [
        "from sklearn.manifold import TSNE\n",
        "import matplotlib.pyplot as plt\n",
        "\n",
        "# Sampling a subset of our dataset because t-SNE is computationally expensive\n",
        "SAMPLE_SIZE = int(len(features) * 0.3)\n",
        "np.random.seed(0)\n",
        "indices = np.random.choice(range(len(features)), size=SAMPLE_SIZE, replace=False)\n",
        "projected_features = TSNE(n_components=2, random_state=0).fit_transform(features[indices])\n",
        "colors = ['pink', 'green', 'midnightblue', 'orange', 'darkgrey']\n",
        "for category, category_id in sorted(category_to_id.items()):\n",
        "    points = projected_features[(labels[indices] == category_id).values]\n",
        "    plt.scatter(points[:,0], points[:,1], s=30, c=colors[category_id], label=category)\n",
        "plt.title(\"tf-idf feature vector for each article, projected on 2 dimensions.\",\n",
        "          fontdict=dict(fontsize=15))\n",
        "plt.legend()"
      ],
      "execution_count": 0,
      "outputs": [
        {
          "output_type": "execute_result",
          "data": {
            "text/plain": [
              "<matplotlib.legend.Legend at 0x7f733dd76b00>"
            ]
          },
          "metadata": {
            "tags": []
          },
          "execution_count": 11
        },
        {
          "output_type": "display_data",
          "data": {
            "image/png": "[encoded data removed]",
            "text/plain": [
              "<Figure size 432x288 with 1 Axes>"
            ]
          },
          "metadata": {
            "tags": []
          }
        }
      ]
    },
    {
      "cell_type": "markdown",
      "metadata": {
        "id": "1XwFNO4re_Fz",
        "colab_type": "text"
      },
      "source": [
        "## Model evaluation and training\n",
        "\n"
      ]
    },
    {
      "cell_type": "code",
      "metadata": {
        "id": "GidjnMaQzi3Z",
        "colab_type": "code",
        "colab": {}
      },
      "source": [
        "#hyperparameter search\n",
        "from sklearn.model_selection import train_test_split, GridSearchCV\n",
        "from sklearn.ensemble import RandomForestClassifier\n",
        "from sklearn.naive_bayes import MultinomialNB, BernoulliNB\n",
        "from sklearn.linear_model import LogisticRegression, SGDClassifier\n",
        "from sklearn.svm import LinearSVC\n",
        "\n",
        "rndm_forst = RandomForestClassifier(n_estimators=200, max_depth=3, random_state=0),\n",
        "multi = MultinomialNB(),\n",
        "bernli = BernoulliNB(),\n",
        "logistic = LogisticRegression(solver='liblinear'),\n",
        "sgd = SGDClassifier(),\n",
        "linear = LinearSVC()\n",
        "\n",
        "models = [\n",
        "    rndm_forst,\n",
        "    multi,\n",
        "    bernli,\n",
        "    logistic,\n",
        "    sgd,\n",
        "    linear\n",
        "]\n",
        "\n",
        "loss = ['hinge', 'log', 'modified_huber', 'squared_hinge', 'perceptron']\n",
        "penalty = ['l1', 'l2', 'elasticnet']\n",
        "alpha = [0.0001, 0.001, 0.01, 0.1, 1, 10, 100, 1000]\n",
        "learning_rate = ['constant', 'optimal', 'invscaling', 'adaptive']\n",
        "class_weight = [{1:0.5, 0:0.5}, {1:0.4, 0:0.6}, {1:0.6, 0:0.4}, {1:0.7, 0:0.3}]\n",
        "eta0 = [1, 10, 100]\n",
        "C = [0.0001, 0.001, 0.01, 0.1, 1, 10, 100, 1000]\n",
        "solver = ['liblinear', 'saga']\n",
        "\n",
        "X_train, X_test, y_train, y_test, indices_train, indices_test = train_test_split(features, labels, df.index, test_size=0.33, random_state=0)\n",
        "\n",
        "param_grid = dict(penalty=penalty,\n",
        "                  C=C,\n",
        "                  class_weight=class_weight,\n",
        "                  solver=solver,\n",
        "                  loss=loss,\n",
        "                  alpha=alpha,\n",
        "                  learning_rate=learning_rate,\n",
        "                  eta0=eta0)\n",
        "\n",
        "grid = GridSearchCV(estimator=logistic,\n",
        "                    param_grid=param_grid,\n",
        "                    scoring='accuracy',\n",
        "                    verbose=1,\n",
        "                    n_jobs=-1)\n",
        "grid.fit(X_train, y_train)\n",
        "\n",
        "print(\"Model: logistic\")\n",
        "print(\"Best score: \",grid.cv_results.keys())\n",
        "#print(\"Best param: \",grid_result.best_param_)"
      ],
      "execution_count": 0,
      "outputs": []
    },
    {
      "cell_type": "markdown",
      "metadata": {
        "id": "pJ_l3zrQhuAv",
        "colab_type": "text"
      },
      "source": [
        "### Model evaluation\n"
      ]
    },
    {
      "cell_type": "code",
      "metadata": {
        "id": "MPI84Fkoel-a",
        "colab_type": "code",
        "outputId": "a2c3c595-9da4-4c7b-dc5e-063ca4422beb",
        "colab": {
          "base_uri": "https://localhost:8080/",
          "height": 1074
        }
      },
      "source": [
        "from sklearn.ensemble import RandomForestClassifier\n",
        "from sklearn.naive_bayes import MultinomialNB, BernoulliNB\n",
        "from sklearn.linear_model import LogisticRegression, SGDClassifier\n",
        "from sklearn.svm import LinearSVC\n",
        "\n",
        "from sklearn.model_selection import cross_val_score\n",
        "\n",
        "\n",
        "models = [\n",
        "    RandomForestClassifier(n_estimators=200, max_depth=3, random_state=0),\n",
        "    MultinomialNB(),\n",
        "    BernoulliNB(),\n",
        "    LogisticRegression(random_state=0),\n",
        "    SGDClassifier(),\n",
        "    LinearSVC()\n",
        "]\n",
        "CV = 5\n",
        "cv_df = pd.DataFrame(index=range(CV * len(models)))\n",
        "entries = []\n",
        "for model in models:\n",
        "  model_name = model.__class__.__name__\n",
        "  accuracies = cross_val_score(model, features, labels, scoring='accuracy', cv=CV)\n",
        "  for fold_idx, accuracy in enumerate(accuracies):\n",
        "    entries.append((model_name, fold_idx, accuracy))\n",
        "cv_df = pd.DataFrame(entries, columns=['model_name', 'fold_idx', 'accuracy'])\n",
        "print(cv_df)"
      ],
      "execution_count": 0,
      "outputs": [
        {
          "output_type": "stream",
          "text": [
            "/usr/local/lib/python3.6/dist-packages/sklearn/linear_model/logistic.py:433: FutureWarning: Default solver will be changed to 'lbfgs' in 0.22. Specify a solver to silence this warning.\n",
            "  FutureWarning)\n",
            "/usr/local/lib/python3.6/dist-packages/sklearn/linear_model/logistic.py:460: FutureWarning: Default multi_class will be changed to 'auto' in 0.22. Specify the multi_class option to silence this warning.\n",
            "  \"this warning.\", FutureWarning)\n",
            "/usr/local/lib/python3.6/dist-packages/sklearn/linear_model/logistic.py:433: FutureWarning: Default solver will be changed to 'lbfgs' in 0.22. Specify a solver to silence this warning.\n",
            "  FutureWarning)\n",
            "/usr/local/lib/python3.6/dist-packages/sklearn/linear_model/logistic.py:460: FutureWarning: Default multi_class will be changed to 'auto' in 0.22. Specify the multi_class option to silence this warning.\n",
            "  \"this warning.\", FutureWarning)\n",
            "/usr/local/lib/python3.6/dist-packages/sklearn/linear_model/logistic.py:433: FutureWarning: Default solver will be changed to 'lbfgs' in 0.22. Specify a solver to silence this warning.\n",
            "  FutureWarning)\n",
            "/usr/local/lib/python3.6/dist-packages/sklearn/linear_model/logistic.py:460: FutureWarning: Default multi_class will be changed to 'auto' in 0.22. Specify the multi_class option to silence this warning.\n",
            "  \"this warning.\", FutureWarning)\n",
            "/usr/local/lib/python3.6/dist-packages/sklearn/linear_model/logistic.py:433: FutureWarning: Default solver will be changed to 'lbfgs' in 0.22. Specify a solver to silence this warning.\n",
            "  FutureWarning)\n",
            "/usr/local/lib/python3.6/dist-packages/sklearn/linear_model/logistic.py:460: FutureWarning: Default multi_class will be changed to 'auto' in 0.22. Specify the multi_class option to silence this warning.\n",
            "  \"this warning.\", FutureWarning)\n",
            "/usr/local/lib/python3.6/dist-packages/sklearn/linear_model/logistic.py:433: FutureWarning: Default solver will be changed to 'lbfgs' in 0.22. Specify a solver to silence this warning.\n",
            "  FutureWarning)\n",
            "/usr/local/lib/python3.6/dist-packages/sklearn/linear_model/logistic.py:460: FutureWarning: Default multi_class will be changed to 'auto' in 0.22. Specify the multi_class option to silence this warning.\n",
            "  \"this warning.\", FutureWarning)\n",
            "/usr/local/lib/python3.6/dist-packages/sklearn/linear_model/stochastic_gradient.py:166: FutureWarning: max_iter and tol parameters have been added in SGDClassifier in 0.19. If both are left unset, they default to max_iter=5 and tol=None. If tol is not None, max_iter defaults to max_iter=1000. From 0.21, default max_iter will be 1000, and default tol will be 1e-3.\n",
            "  FutureWarning)\n",
            "/usr/local/lib/python3.6/dist-packages/sklearn/linear_model/stochastic_gradient.py:166: FutureWarning: max_iter and tol parameters have been added in SGDClassifier in 0.19. If both are left unset, they default to max_iter=5 and tol=None. If tol is not None, max_iter defaults to max_iter=1000. From 0.21, default max_iter will be 1000, and default tol will be 1e-3.\n",
            "  FutureWarning)\n",
            "/usr/local/lib/python3.6/dist-packages/sklearn/linear_model/stochastic_gradient.py:166: FutureWarning: max_iter and tol parameters have been added in SGDClassifier in 0.19. If both are left unset, they default to max_iter=5 and tol=None. If tol is not None, max_iter defaults to max_iter=1000. From 0.21, default max_iter will be 1000, and default tol will be 1e-3.\n",
            "  FutureWarning)\n",
            "/usr/local/lib/python3.6/dist-packages/sklearn/linear_model/stochastic_gradient.py:166: FutureWarning: max_iter and tol parameters have been added in SGDClassifier in 0.19. If both are left unset, they default to max_iter=5 and tol=None. If tol is not None, max_iter defaults to max_iter=1000. From 0.21, default max_iter will be 1000, and default tol will be 1e-3.\n",
            "  FutureWarning)\n",
            "/usr/local/lib/python3.6/dist-packages/sklearn/linear_model/stochastic_gradient.py:166: FutureWarning: max_iter and tol parameters have been added in SGDClassifier in 0.19. If both are left unset, they default to max_iter=5 and tol=None. If tol is not None, max_iter defaults to max_iter=1000. From 0.21, default max_iter will be 1000, and default tol will be 1e-3.\n",
            "  FutureWarning)\n"
          ],
          "name": "stderr"
        },
        {
          "output_type": "stream",
          "text": [
            "                model_name  fold_idx  accuracy\n",
            "0   RandomForestClassifier         0  0.810690\n",
            "1   RandomForestClassifier         1  0.828829\n",
            "2   RandomForestClassifier         2  0.871622\n",
            "3   RandomForestClassifier         3  0.824324\n",
            "4   RandomForestClassifier         4  0.849099\n",
            "5            MultinomialNB         0  0.973274\n",
            "6            MultinomialNB         1  0.977477\n",
            "7            MultinomialNB         2  0.981982\n",
            "8            MultinomialNB         3  0.959459\n",
            "9            MultinomialNB         4  0.975225\n",
            "10             BernoulliNB         0  0.964365\n",
            "11             BernoulliNB         1  0.966216\n",
            "12             BernoulliNB         2  0.979730\n",
            "13             BernoulliNB         3  0.952703\n",
            "14             BernoulliNB         4  0.972973\n",
            "15      LogisticRegression         0  0.977728\n",
            "16      LogisticRegression         1  0.981982\n",
            "17      LogisticRegression         2  0.988739\n",
            "18      LogisticRegression         3  0.972973\n",
            "19      LogisticRegression         4  0.988739\n",
            "20           SGDClassifier         0  0.982183\n",
            "21           SGDClassifier         1  0.986486\n",
            "22           SGDClassifier         2  0.972973\n",
            "23           SGDClassifier         3  0.975225\n",
            "24           SGDClassifier         4  0.977477\n",
            "25               LinearSVC         0  0.986637\n",
            "26               LinearSVC         1  0.986486\n",
            "27               LinearSVC         2  0.990991\n",
            "28               LinearSVC         3  0.984234\n",
            "29               LinearSVC         4  0.986486\n"
          ],
          "name": "stdout"
        }
      ]
    },
    {
      "cell_type": "code",
      "metadata": {
        "id": "njwq4ZqntBXn",
        "colab_type": "code",
        "outputId": "14f95be9-9f89-4837-aeaf-aab5e06c8cd6",
        "colab": {
          "base_uri": "https://localhost:8080/",
          "height": 301
        }
      },
      "source": [
        "import seaborn as sns\n",
        "\n",
        "sns.boxplot(x='model_name', y='accuracy', data=cv_df)\n",
        "sns.stripplot(x='model_name', y='accuracy', data=cv_df, \n",
        "              size=8, jitter=True, edgecolor=\"gray\", linewidth=2)"
      ],
      "execution_count": 0,
      "outputs": [
        {
          "output_type": "execute_result",
          "data": {
            "text/plain": [
              "<matplotlib.axes._subplots.AxesSubplot at 0x7f733c148550>"
            ]
          },
          "metadata": {
            "tags": []
          },
          "execution_count": 15
        },
        {
          "output_type": "display_data",
          "data": {
            "image/png": "[encoded data removed]",
            "text/plain": [
              "<Figure size 432x288 with 1 Axes>"
            ]
          },
          "metadata": {
            "tags": []
          }
        }
      ]
    },
    {
      "cell_type": "code",
      "metadata": {
        "id": "-DX1gVduotvA",
        "colab_type": "code",
        "outputId": "89d3ffb0-6443-494d-cb4f-873b95d9e074",
        "colab": {
          "base_uri": "https://localhost:8080/",
          "height": 153
        }
      },
      "source": [
        "cv_df.groupby('model_name').accuracy.mean()"
      ],
      "execution_count": 0,
      "outputs": [
        {
          "output_type": "execute_result",
          "data": {
            "text/plain": [
              "model_name\n",
              "BernoulliNB               0.967197\n",
              "LinearSVC                 0.986967\n",
              "LogisticRegression        0.982032\n",
              "MultinomialNB             0.973484\n",
              "RandomForestClassifier    0.836913\n",
              "SGDClassifier             0.978869\n",
              "Name: accuracy, dtype: float64"
            ]
          },
          "metadata": {
            "tags": []
          },
          "execution_count": 16
        }
      ]
    },
    {
      "cell_type": "markdown",
      "metadata": {
        "id": "ukL-IF2CnHa_",
        "colab_type": "text"
      },
      "source": [
        "**LinearSVC** model has the highest mean accuracy over the dataset"
      ]
    },
    {
      "cell_type": "markdown",
      "metadata": {
        "id": "UWZJZ9OyqCmJ",
        "colab_type": "text"
      },
      "source": [
        "### Model interpretation\n",
        "\n"
      ]
    },
    {
      "cell_type": "code",
      "metadata": {
        "id": "zE5u-IEa5gnj",
        "colab_type": "code",
        "colab": {}
      },
      "source": [
        "from sklearn.model_selection import train_test_split\n",
        "\n",
        "model = LinearSVC()\n",
        "\n",
        "X_train, X_test, y_train, y_test, indices_train, indices_test = train_test_split(features, labels, df.index, test_size=0.33, random_state=0)\n",
        "model.fit(X_train, y_train)\n",
        "#y_pred_proba = model.predict_proba(X_test)\n",
        "y_pred = model.predict(X_test)"
      ],
      "execution_count": 0,
      "outputs": []
    },
    {
      "cell_type": "code",
      "metadata": {
        "id": "gYv3Q-gJ68ib",
        "colab_type": "code",
        "outputId": "026c6509-b1cf-4788-917a-41aa5881ae2a",
        "colab": {
          "base_uri": "https://localhost:8080/",
          "height": 362
        }
      },
      "source": [
        "from sklearn.metrics import confusion_matrix\n",
        "import seaborn as sns\n",
        "\n",
        "conf_mat = confusion_matrix(y_test, y_pred)\n",
        "sns.heatmap(conf_mat, annot=True, fmt='d',\n",
        "            xticklabels=category_id_df.category.values, yticklabels=category_id_df.category.values)\n",
        "plt.ylabel('Actual')\n",
        "plt.xlabel('Predicted')"
      ],
      "execution_count": 0,
      "outputs": [
        {
          "output_type": "execute_result",
          "data": {
            "text/plain": [
              "Text(0.5, 15.0, 'Predicted')"
            ]
          },
          "metadata": {
            "tags": []
          },
          "execution_count": 18
        },
        {
          "output_type": "display_data",
          "data": {
            "image/png": "[encoded data removed]",
            "text/plain": [
              "<Figure size 432x288 with 2 Axes>"
            ]
          },
          "metadata": {
            "tags": []
          }
        }
      ]
    },
    {
      "cell_type": "code",
      "metadata": {
        "id": "M9Kiqrtf9Gep",
        "colab_type": "code",
        "outputId": "8e256fb5-bf85-41f2-e67b-7cbca27e82e3",
        "colab": {
          "base_uri": "https://localhost:8080/",
          "height": 145
        }
      },
      "source": [
        "from IPython.display import display\n",
        "\n",
        "for predicted in category_id_df.category_id:\n",
        "  for actual in category_id_df.category_id:\n",
        "    if predicted != actual and conf_mat[actual, predicted] >= 2:\n",
        "      print(\"'{}' predicted as '{}' : {} examples.\".format(id_to_category[actual], id_to_category[predicted], conf_mat[actual, predicted]))\n",
        "      display(df.loc[indices_test[(y_test == actual) & (y_pred == predicted)]][['category_id', 'text']])\n",
        "      print('')"
      ],
      "execution_count": 0,
      "outputs": [
        {
          "output_type": "stream",
          "text": [
            "'business' predicted as 'tech' : 2 examples.\n"
          ],
          "name": "stdout"
        },
        {
          "output_type": "display_data",
          "data": {
            "text/html": [
              "<div>\n",
              "<style scoped>\n",
              "    .dataframe tbody tr th:only-of-type {\n",
              "        vertical-align: middle;\n",
              "    }\n",
              "\n",
              "    .dataframe tbody tr th {\n",
              "        vertical-align: top;\n",
              "    }\n",
              "\n",
              "    .dataframe thead th {\n",
              "        text-align: right;\n",
              "    }\n",
              "</style>\n",
              "<table border=\"1\" class=\"dataframe\">\n",
              "  <thead>\n",
              "    <tr style=\"text-align: right;\">\n",
              "      <th></th>\n",
              "      <th>category_id</th>\n",
              "      <th>text</th>\n",
              "    </tr>\n",
              "  </thead>\n",
              "  <tbody>\n",
              "    <tr>\n",
              "      <th>1748</th>\n",
              "      <td>1</td>\n",
              "      <td>id theft surge hits us consumers almost a quar...</td>\n",
              "    </tr>\n",
              "    <tr>\n",
              "      <th>159</th>\n",
              "      <td>1</td>\n",
              "      <td>orange colour clash set for court a row over t...</td>\n",
              "    </tr>\n",
              "  </tbody>\n",
              "</table>\n",
              "</div>"
            ],
            "text/plain": [
              "      category_id                                               text\n",
              "1748            1  id theft surge hits us consumers almost a quar...\n",
              "159             1  orange colour clash set for court a row over t..."
            ]
          },
          "metadata": {
            "tags": []
          }
        },
        {
          "output_type": "stream",
          "text": [
            "\n"
          ],
          "name": "stdout"
        }
      ]
    },
    {
      "cell_type": "code",
      "metadata": {
        "id": "kzO82ptUKMmA",
        "colab_type": "code",
        "outputId": "fb29b267-1edc-47db-f738-6d06f4d05168",
        "colab": {
          "base_uri": "https://localhost:8080/",
          "height": 85
        }
      },
      "source": [
        "model.fit(features, labels)"
      ],
      "execution_count": 0,
      "outputs": [
        {
          "output_type": "execute_result",
          "data": {
            "text/plain": [
              "LinearSVC(C=1.0, class_weight=None, dual=True, fit_intercept=True,\n",
              "     intercept_scaling=1, loss='squared_hinge', max_iter=1000,\n",
              "     multi_class='ovr', penalty='l2', random_state=None, tol=0.0001,\n",
              "     verbose=0)"
            ]
          },
          "metadata": {
            "tags": []
          },
          "execution_count": 20
        }
      ]
    },
    {
      "cell_type": "code",
      "metadata": {
        "id": "FRSFp-W8KMmE",
        "colab_type": "code",
        "outputId": "b9e9ee15-88cc-41ba-a46d-2e90d228ff4e",
        "colab": {
          "base_uri": "https://localhost:8080/",
          "height": 1632
        }
      },
      "source": [
        "from sklearn.feature_selection import chi2\n",
        "\n",
        "N = 5\n",
        "for category, category_id in sorted(category_to_id.items()):\n",
        "  indices = np.argsort(model.coef_[category_id])\n",
        "  feature_names = np.array(tfidf.get_feature_names())[indices]\n",
        "  unigrams = [v for v in reversed(feature_names) if len(v.split(' ')) == 1][:N]\n",
        "  bigrams = [v for v in reversed(feature_names) if len(v.split(' ')) == 2][:N]\n",
        "  trigrams = [v for v in reversed(feature_names) if len(v.split(' ')) == 3][:N]\n",
        "  print(\"# '{}':\".format(category))\n",
        "  print(\"  . Top unigrams:\\n       . {}\".format('\\n       . '.join(unigrams)))\n",
        "  print(\"  . Top bigrams:\\n       . {}\".format('\\n       . '.join(bigrams)))\n",
        "  print(\"  . Top trigrams:\\n       . {}\".format('\\n       . '.join(trigrams)))  "
      ],
      "execution_count": 0,
      "outputs": [
        {
          "output_type": "stream",
          "text": [
            "# 'business':\n",
            "  . Top unigrams:\n",
            "       . bank\n",
            "       . firm\n",
            "       . shares\n",
            "       . economic\n",
            "       . company\n",
            "  . Top bigrams:\n",
            "       . chief executive\n",
            "       . mr glazer\n",
            "       . stock market\n",
            "       . economic growth\n",
            "       . analysts said\n",
            "  . Top trigrams:\n",
            "       . world trade organisation\n",
            "       . chief financial officer\n",
            "       . securities exchange commission\n",
            "       . president viktor yushchenko\n",
            "       . trade organisation wto\n",
            "# 'entertainment':\n",
            "  . Top unigrams:\n",
            "       . film\n",
            "       . singer\n",
            "       . tv\n",
            "       . music\n",
            "       . star\n",
            "  . Top bigrams:\n",
            "       . box office\n",
            "       . los angeles\n",
            "       . new york\n",
            "       . ticket sales\n",
            "       . phonographic industry\n",
            "  . Top trigrams:\n",
            "       . british phonographic industry\n",
            "       . strictly come dancing\n",
            "       . uk film council\n",
            "       . celebrity big brother\n",
            "       . phonographic industry bpi\n",
            "# 'politics':\n",
            "  . Top unigrams:\n",
            "       . party\n",
            "       . labour\n",
            "       . secretary\n",
            "       . government\n",
            "       . blair\n",
            "  . Top bigrams:\n",
            "       . mr blair\n",
            "       . mr brown\n",
            "       . human rights\n",
            "       . tony blair\n",
            "       . prime minister\n",
            "  . Top trigrams:\n",
            "       . told bbc radio\n",
            "       . secretary jack straw\n",
            "       . foreign secretary jack\n",
            "       . mr straw said\n",
            "       . mr blair said\n",
            "# 'sport':\n",
            "  . Top unigrams:\n",
            "       . match\n",
            "       . club\n",
            "       . cup\n",
            "       . coach\n",
            "       . rugby\n",
            "  . Top bigrams:\n",
            "       . year old\n",
            "       . world number\n",
            "       . australian open\n",
            "       . subs used\n",
            "       . champions league\n",
            "  . Top trigrams:\n",
            "       . told bbc sport\n",
            "       . anti doping agency\n",
            "       . rugby football union\n",
            "       . performance enhancing drugs\n",
            "       . bbc radio live\n",
            "# 'tech':\n",
            "  . Top unigrams:\n",
            "       . computer\n",
            "       . online\n",
            "       . users\n",
            "       . technology\n",
            "       . software\n",
            "  . Top bigrams:\n",
            "       . said mr\n",
            "       . half life\n",
            "       . news website\n",
            "       . bbc news\n",
            "       . video game\n",
            "  . Top trigrams:\n",
            "       . bbc news website\n",
            "       . told bbc news\n",
            "       . digital music players\n",
            "       . grand theft auto\n",
            "       . bbc news online\n"
          ],
          "name": "stdout"
        }
      ]
    },
    {
      "cell_type": "code",
      "metadata": {
        "id": "QOyYF6fdRc18",
        "colab_type": "code",
        "outputId": "8d66bbfb-8cbe-43ae-f72a-684c9e3972c3",
        "colab": {
          "base_uri": "https://localhost:8080/",
          "height": 102
        }
      },
      "source": [
        "df[df.text.str.lower().str.contains('news website')].category.value_counts()"
      ],
      "execution_count": 0,
      "outputs": [
        {
          "output_type": "execute_result",
          "data": {
            "text/plain": [
              "tech             69\n",
              "politics          8\n",
              "entertainment     7\n",
              "business          1\n",
              "Name: category, dtype: int64"
            ]
          },
          "metadata": {
            "tags": []
          },
          "execution_count": 22
        }
      ]
    },
    {
      "cell_type": "code",
      "metadata": {
        "id": "DvmxlZdJGITR",
        "colab_type": "code",
        "outputId": "412778b1-81a0-42af-8e88-530e7507eb60",
        "colab": {
          "base_uri": "https://localhost:8080/",
          "height": 1278
        }
      },
      "source": [
        "texts = [\"Hooli stock price soared after a dip in PiedPiper revenue growth.\",\n",
        "         \"Captain Tsubasa scores a magnificent goal for the Japanese team.\",\n",
        "         \"Merryweather mercenaries are sent on another mission, as government oversight groups call for new sanctions.\",\n",
        "         \"Beyoncé releases a new album, tops the charts in all of south-east Asia!\",\n",
        "         \"You won't guess what the latest trend in data analysis is!\",\n",
        "         \"An amended draft bill on the regulation of Islamic institutes including Madrasas will be presented to the Cabinet after consultations with the Attorney General’s Department and the Muslim Religious Affairs Ministry, Prime Minister Ranil Wickremesinghe said. The Prime Minister said the country does not need Sharia universities and degree awarding institutions should be open to all under the Universities Act.\",\n",
        "         \"The race for Lille star Nicolas Pepe is heating up with Manchester United and Paris Saint-Germain among the clubs interested. The 23-year-old, who has also attracted interest from Arsenal in the past, enjoyed an outstanding season in Ligue 1, scoring 20 goals and adding 11 assists to help Lille qualify for the Champions League. The French club are likely to demand close to £70m for his signature\"]\n",
        "text_features = tfidf.transform(texts)\n",
        "print(text_features)\n",
        "predictions = model.predict(text_features)\n",
        "for text, predicted in zip(texts, predictions):\n",
        "  print('\"{}\"'.format(text))\n",
        "  print(\"  - Predicted as: '{}'\".format(id_to_category[predicted]))\n",
        "  print(\"\")\n",
        "print(id_to_category)"
      ],
      "execution_count": 0,
      "outputs": [
        {
          "output_type": "stream",
          "text": [
            "  (0, 13064)\t0.35481994610072015\n",
            "  (0, 12675)\t0.5525997591632623\n",
            "  (0, 11365)\t0.38850258688533096\n",
            "  (0, 10456)\t0.32189764294116807\n",
            "  (0, 6045)\t0.2817225102107222\n",
            "  (0, 3990)\t0.48457856609086836\n",
            "  (1, 13518)\t0.26530405174747435\n",
            "  (1, 12065)\t0.4878943500612208\n",
            "  (1, 8124)\t0.5407128396486673\n",
            "  (1, 7147)\t0.3831581509320543\n",
            "  (1, 5823)\t0.34073438607684314\n",
            "  (1, 2256)\t0.3691780029510874\n",
            "  (2, 12266)\t0.3635303435415327\n",
            "  (2, 11954)\t0.5914109553651851\n",
            "  (2, 9096)\t0.16789084628272502\n",
            "  (2, 8684)\t0.5424178378020279\n",
            "  (2, 6032)\t0.37430754223422524\n",
            "  (2, 5912)\t0.2357290563206651\n",
            "  (3, 13890)\t0.36329956785917283\n",
            "  (3, 12773)\t0.3981975968910693\n",
            "  (3, 12772)\t0.33494542911132796\n",
            "  (3, 12767)\t0.20669097083177465\n",
            "  (3, 11148)\t0.33823630216956707\n",
            "  (3, 9096)\t0.10469194605564243\n",
            "  (3, 4358)\t0.389322432500167\n",
            "  :\t:\n",
            "  (6, 9208)\t0.19731692726062258\n",
            "  (6, 8229)\t0.16640285948718592\n",
            "  (6, 8227)\t0.14779517018811075\n",
            "  (6, 7826)\t0.1112990504227622\n",
            "  (6, 7661)\t0.13962256088540342\n",
            "  (6, 6949)\t0.15849206928948162\n",
            "  (6, 6303)\t0.1039771024545443\n",
            "  (6, 5825)\t0.16572632408688656\n",
            "  (6, 5530)\t0.13747312742887866\n",
            "  (6, 4632)\t0.1715465683102845\n",
            "  (6, 3727)\t0.12384640106580934\n",
            "  (6, 2721)\t0.17574930510970146\n",
            "  (6, 2718)\t0.12678649818119167\n",
            "  (6, 2706)\t0.12445587103948998\n",
            "  (6, 2428)\t0.17316734790880375\n",
            "  (6, 2427)\t0.15390788604188466\n",
            "  (6, 1325)\t0.18729394623780768\n",
            "  (6, 1200)\t0.16314436688598885\n",
            "  (6, 724)\t0.14985733878155533\n",
            "  (6, 489)\t0.24096378836775303\n",
            "  (6, 302)\t0.22316637927187594\n",
            "  (6, 301)\t0.22316637927187594\n",
            "  (6, 298)\t0.15637987846437104\n",
            "  (6, 227)\t0.11172307770579616\n",
            "  (6, 66)\t0.11861986545940141\n",
            "\"Hooli stock price soared after a dip in PiedPiper revenue growth.\"\n",
            "  - Predicted as: 'business'\n",
            "\n",
            "\"Captain Tsubasa scores a magnificent goal for the Japanese team.\"\n",
            "  - Predicted as: 'sport'\n",
            "\n",
            "\"Merryweather mercenaries are sent on another mission, as government oversight groups call for new sanctions.\"\n",
            "  - Predicted as: 'politics'\n",
            "\n",
            "\"Beyoncé releases a new album, tops the charts in all of south-east Asia!\"\n",
            "  - Predicted as: 'entertainment'\n",
            "\n",
            "\"You won't guess what the latest trend in data analysis is!\"\n",
            "  - Predicted as: 'tech'\n",
            "\n",
            "\"An amended draft bill on the regulation of Islamic institutes including Madrasas will be presented to the Cabinet after consultations with the Attorney General’s Department and the Muslim Religious Affairs Ministry, Prime Minister Ranil Wickremesinghe said. The Prime Minister said the country does not need Sharia universities and degree awarding institutions should be open to all under the Universities Act.\"\n",
            "  - Predicted as: 'politics'\n",
            "\n",
            "\"The race for Lille star Nicolas Pepe is heating up with Manchester United and Paris Saint-Germain among the clubs interested. The 23-year-old, who has also attracted interest from Arsenal in the past, enjoyed an outstanding season in Ligue 1, scoring 20 goals and adding 11 assists to help Lille qualify for the Champions League. The French club are likely to demand close to £70m for his signature\"\n",
            "  - Predicted as: 'sport'\n",
            "\n",
            "{0: 'tech', 1: 'business', 2: 'sport', 3: 'entertainment', 4: 'politics'}\n"
          ],
          "name": "stdout"
        }
      ]
    },
    {
      "cell_type": "code",
      "metadata": {
        "id": "52iyK16B247i",
        "colab_type": "code",
        "colab": {}
      },
      "source": [
        "import pickle\n",
        "save_model = open(\"/content/gdrive/My Drive/Colab Notebooks/generalClf.pickle\",\"wb\")\n",
        "pickle.dump(model, save_model)\n",
        "save_model.close()"
      ],
      "execution_count": 0,
      "outputs": []
    },
    {
      "cell_type": "code",
      "metadata": {
        "id": "0yxFQ5qidaLr",
        "colab_type": "code",
        "colab": {}
      },
      "source": [
        "save_tfidf = open(\"/content/gdrive/My Drive/Colab Notebooks/tfidf.pickle\",\"wb\")\n",
        "pickle.dump(tfidf, save_tfidf)\n",
        "save_tfidf.close()"
      ],
      "execution_count": 0,
      "outputs": []
    },
    {
      "cell_type": "code",
      "metadata": {
        "id": "-O4QPd-8z844",
        "colab_type": "code",
        "colab": {}
      },
      "source": [
        "save_id_map = open(\"/content/gdrive/My Drive/Colab Notebooks/gen_id_map.pickle\",\"wb\")\n",
        "pickle.dump(id_to_category, save_id_map)\n",
        "save_id_map.close()"
      ],
      "execution_count": 0,
      "outputs": []
    }
  ]
}